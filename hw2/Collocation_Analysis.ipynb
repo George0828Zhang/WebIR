{
 "cells": [
  {
   "cell_type": "code",
   "execution_count": null,
   "metadata": {},
   "outputs": [],
   "source": [
    "import json, csv\n",
    "import math\n",
    "import os\n",
    "import numpy as np\n",
    "from tqdm import tqdm_notebook as tqdm\n",
    "from multiprocessing import Pool"
   ]
  },
  {
   "cell_type": "code",
   "execution_count": null,
   "metadata": {},
   "outputs": [],
   "source": [
    "inverted_filename = 'inverted_file.json'\n",
    "url2content_name = 'url2content.json'\n",
    "\n",
    "doc2url_name = 'news_data_1/NC_1.csv'\n",
    "training_name = 'news_data_1/TD.csv'\n",
    "query_name = 'news_data_1/QS_1.csv'\n",
    "\n",
    "outcsv_name = 'out.csv'"
   ]
  },
  {
   "cell_type": "code",
   "execution_count": null,
   "metadata": {},
   "outputs": [],
   "source": [
    "num_threads = 4\n",
    "MAXGRAM = 2\n",
    "MAXCAND = "
   ]
  },
  {
   "cell_type": "code",
   "execution_count": null,
   "metadata": {},
   "outputs": [],
   "source": [
    "# load documents\n",
    "urlcontents = json.load(open(url2content_name, 'r'))\n",
    "tfdocs = {}\n",
    "with open(doc2url_name, 'r') as f:\n",
    "    for i, line in enumerate(f):\n",
    "        if i == 0:\n",
    "            print(line)\n",
    "        else:\n",
    "            fields = line.strip().split(',') # doc_id, url\n",
    "            doc_id = fields[0]\n",
    "            url = fields[1]\n",
    "            cont = urlcontents[url]\n",
    "            tfdocs[doc_id] = {'url':url, 'content':cont}\n",
    "DOC_SZ = len(tfdocs) "
   ]
  },
  {
   "cell_type": "code",
   "execution_count": null,
   "metadata": {},
   "outputs": [],
   "source": [
    "qlist = []\n",
    "\n",
    "with open(training_name, 'r') as f:\n",
    "    for i, line in enumerate(f):\n",
    "        if i == 0:\n",
    "            print(line)\n",
    "        else:\n",
    "            fields = line.strip().split(',') # query, news_id, rel\n",
    "            q, d, score = fields\n",
    "\n",
    "            score = int(score)\n",
    "            \n",
    "            qlist.append((q, d, score))\n",
    "\n",
    "#             if q not in train_scores:\n",
    "#                 train_scores[q] = {d:score}\n",
    "#             else:\n",
    "#                 train_scores[q][d] = score "
   ]
  },
  {
   "cell_type": "code",
   "execution_count": null,
   "metadata": {},
   "outputs": [],
   "source": [
    "classweights = {0: 0, 1: 0, 2: 0, 3: 1}"
   ]
  },
  {
   "cell_type": "code",
   "execution_count": null,
   "metadata": {},
   "outputs": [],
   "source": [
    "inverted = json.load(open(inverted_filename, 'r'))"
   ]
  },
  {
   "cell_type": "code",
   "execution_count": null,
   "metadata": {},
   "outputs": [],
   "source": [
    "def find(q, d):\n",
    "    qwords = []\n",
    "    size = len(q)\n",
    "    for start in range(size):\n",
    "        for ngram in range(1, MAXGRAM+1):\n",
    "            end = start + ngram\n",
    "            word = q[start:end]\n",
    "            \n",
    "            if word in inverted and word in d:\n",
    "                qwords.append(word)\n",
    "    return qwords"
   ]
  },
  {
   "cell_type": "code",
   "execution_count": null,
   "metadata": {},
   "outputs": [],
   "source": [
    "words = {}\n",
    "\n",
    "for (q, d, score) in qlist:\n",
    "    ws = find(q, tfdocs[d]['content'])\n",
    "    for w in ws:\n",
    "        #ngram = len(w)\n",
    "        if w not in words:\n",
    "            words[w] = 0\n",
    "        words[w] += classweights[score]\n",
    "\n",
    "print(len(words))"
   ]
  },
  {
   "cell_type": "code",
   "execution_count": null,
   "metadata": {},
   "outputs": [],
   "source": [
    "# yes yes, yes no, no yes, no no\n",
    "freqs = {}\n",
    "for"
   ]
  }
 ],
 "metadata": {
  "kernelspec": {
   "display_name": "Python 3",
   "language": "python",
   "name": "python3"
  },
  "language_info": {
   "codemirror_mode": {
    "name": "ipython",
    "version": 3
   },
   "file_extension": ".py",
   "mimetype": "text/x-python",
   "name": "python",
   "nbconvert_exporter": "python",
   "pygments_lexer": "ipython3",
   "version": "3.6.8"
  }
 },
 "nbformat": 4,
 "nbformat_minor": 2
}
